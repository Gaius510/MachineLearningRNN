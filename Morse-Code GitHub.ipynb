{
 "cells": [
  {
   "cell_type": "markdown",
   "id": "f2fa98d5",
   "metadata": {},
   "source": [
    "# Rekonstruktion von Morse-Codes mithilfe von LSTM-Netwerken"
   ]
  },
  {
   "cell_type": "markdown",
   "id": "155c3dbb",
   "metadata": {},
   "source": [
    "Ziel dieses Projektes ist es, die Leerzeichen beziehungsweise die Pausen zwischen den Darstellungen einzelner Buchstaben im Morsecode mithilfe eines rekurrenten LSTM-Netzwerkes zu rekonstruieren. Obwohl durch das Weglassen der Leerzeichen im Prinzip Information verloren geht, ergeben meistens nur bestimmte Positionen der Leerzeichen sinnvolle Wörter."
   ]
  },
  {
   "cell_type": "code",
   "execution_count": 774,
   "id": "492e115e",
   "metadata": {},
   "outputs": [],
   "source": [
    "import tensorflow as tf\n",
    "import numpy as np"
   ]
  },
  {
   "cell_type": "markdown",
   "id": "61450553",
   "metadata": {},
   "source": [
    "## Morse-Kodierung"
   ]
  },
  {
   "cell_type": "markdown",
   "id": "1fb6a724",
   "metadata": {},
   "source": [
    "Zuerst schreiben wir eine Funktion `to_morse`, die ein Wort in Morse-Code übersetzt"
   ]
  },
  {
   "cell_type": "code",
   "execution_count": 775,
   "id": "ce6e728b",
   "metadata": {},
   "outputs": [],
   "source": [
    "morse_code = {\n",
    "    'A': '.-',     'B': '-...',   'C': '-.-.',   'D': '-..',    'E': '.',      'F': '..-.',\n",
    "    'G': '--.',    'H': '....',   'I': '..',     'J': '.---',   'K': '-.-',    'L': '.-..',\n",
    "    'M': '--',     'N': '-.',     'O': '---',    'P': '.--.',   'Q': '--.-',   'R': '.-.',\n",
    "    'S': '...',    'T': '-',      'U': '..-',    'V': '...-',   'W': '.--',    'X': '-..-',\n",
    "    'Y': '-.--',   'Z': '--..' }"
   ]
  },
  {
   "cell_type": "code",
   "execution_count": 776,
   "id": "400cb889",
   "metadata": {},
   "outputs": [],
   "source": [
    "def to_morse_word(word):\n",
    "    word = word.upper()\n",
    "    if not all([x in morse_code for x in word]):\n",
    "        raise Exception(\"Wort enthält Zeichen außerhalb des englischen Alphabets\")\n",
    "    return ' '.join([morse_code[x] for x in word])\n",
    "def to_morse(phrase):\n",
    "    return 'X'.join([to_morse_word(word) for word in phrase.split(\" \")])"
   ]
  },
  {
   "cell_type": "markdown",
   "id": "1d85e48c",
   "metadata": {},
   "source": [
    "Test der Funktion:"
   ]
  },
  {
   "cell_type": "code",
   "execution_count": 777,
   "id": "f4294537",
   "metadata": {},
   "outputs": [
    {
     "data": {
      "text/plain": [
       "'... --- ...X...-'"
      ]
     },
     "execution_count": 777,
     "metadata": {},
     "output_type": "execute_result"
    }
   ],
   "source": [
    "to_morse(\"SOS V\")"
   ]
  },
  {
   "cell_type": "markdown",
   "id": "73479321",
   "metadata": {},
   "source": [
    "## Eingabe und Ausgabe des neuronalen Netzwerkes"
   ]
  },
  {
   "cell_type": "markdown",
   "id": "9999ee8b",
   "metadata": {},
   "source": [
    "Wir müssen uns zuerst fragen, wie die Ein- und Ausgabe des Netzwerkes kodiert sein soll. Wie alle neuronalen Netze besteht die Eingabe eines LSTM-Modells nicht aus Zeichen, sondern aus Gleitkommazahlen."
   ]
  },
  {
   "cell_type": "markdown",
   "id": "1b519a81",
   "metadata": {},
   "source": [
    "Die Eingabe soll ein Morse-Code sein. Da die Leerzeichen weggelassen wurden, besteht dieser nur aus zwei Zeichen. Ein häufiges Verfahren für die Kodierung kategorischer Daten ist das *one-hot encoding*. Die folgende Funktion implementiert diese Codierung der Eingabe, wobei die Leerzeichen im Morsecode automatisch weggelassen werden."
   ]
  },
  {
   "cell_type": "markdown",
   "id": "34ef3a6e",
   "metadata": {},
   "source": [
    "**Look-ahead** Es ist schwierig für das neuronale Netz, zu entscheiden, wo die Morse-Codes unterbrochen werden sollen, ohne wenigstens ein paar Zeichen vorwärts schauen zu können. Daher verschiebe ich einfach Ein- und Ausgabe mithilfe eines einstellbaren look-aheads gegeneinander. Anders gesagt, das neuronale Netz muss erst einige Zeichen später signalisieren, dass ein Leerzeichen eingefügt werden soll."
   ]
  },
  {
   "cell_type": "code",
   "execution_count": 778,
   "id": "1bbf31a0",
   "metadata": {},
   "outputs": [],
   "source": [
    "lookahead = 7"
   ]
  },
  {
   "cell_type": "markdown",
   "id": "658b613a",
   "metadata": {},
   "source": [
    "Die Eingabe wird als `float`-Array kodiert, damit man sie direkt ins neuronale Netzwerk einspeisen kann."
   ]
  },
  {
   "cell_type": "code",
   "execution_count": 779,
   "id": "4372c46f",
   "metadata": {},
   "outputs": [],
   "source": [
    "def encode_input(morse):\n",
    "    encodings = { '.': [1, 0, 0], '-': [0, 1, 0], 'X': [0, 0, 1] }\n",
    "    return np.array([encodings[x] for x in morse + lookahead*\"X\" if x != ' ']).astype(float)"
   ]
  },
  {
   "cell_type": "code",
   "execution_count": 780,
   "id": "6d626572",
   "metadata": {},
   "outputs": [
    {
     "data": {
      "text/plain": [
       "array([[1., 0., 0.],\n",
       "       [1., 0., 0.],\n",
       "       [1., 0., 0.],\n",
       "       [0., 1., 0.],\n",
       "       [0., 1., 0.],\n",
       "       [0., 1., 0.],\n",
       "       [1., 0., 0.],\n",
       "       [1., 0., 0.],\n",
       "       [1., 0., 0.],\n",
       "       [0., 0., 1.],\n",
       "       [0., 0., 1.],\n",
       "       [0., 0., 1.],\n",
       "       [0., 0., 1.],\n",
       "       [0., 0., 1.],\n",
       "       [0., 0., 1.],\n",
       "       [0., 0., 1.]])"
      ]
     },
     "execution_count": 780,
     "metadata": {},
     "output_type": "execute_result"
    }
   ],
   "source": [
    "encode_input(to_morse(\"SOS\"))"
   ]
  },
  {
   "cell_type": "markdown",
   "id": "e8b3dcbb",
   "metadata": {},
   "source": [
    "Die Ausgabe des Netzwerkes möchte ich so machen, dass das Netz für jedes Eingabezeichen entscheiden soll, ob nach diesem Zeichen ein Leerzeichen wahrscheinlich ist. Die gewünschte Ausgabe ist also `1`, wenn auf ein Zeichen im ursprünglichen Morsecode ein Leerzeichen folgt, und sonst `0`. Für das letzte Zeichen macht es Sinn, `1` vorzuschreiben, da das Wortende ja auch ein Buchstabenende ist. Die folgende Funktion implementiert die gewünschte Ausgabe:"
   ]
  },
  {
   "cell_type": "code",
   "execution_count": 781,
   "id": "652a6e69",
   "metadata": {},
   "outputs": [],
   "source": [
    "def compute_target(morse):\n",
    "    return np.array(lookahead*[0] + [int((b == \" \") | (b == \"X\")) for a,b in zip(morse[:-1], morse[1:]) if a != \" \"] + [1]).astype(float)"
   ]
  },
  {
   "cell_type": "code",
   "execution_count": 782,
   "id": "e2df2921",
   "metadata": {},
   "outputs": [
    {
     "data": {
      "text/plain": [
       "array([0., 0., 0., 0., 0., 0., 0., 0., 0., 1., 0., 0., 1., 0., 0., 1., 0.,\n",
       "       0., 0., 0., 1.])"
      ]
     },
     "execution_count": 782,
     "metadata": {},
     "output_type": "execute_result"
    }
   ],
   "source": [
    "compute_target(to_morse(\"SOS V\"))"
   ]
  },
  {
   "cell_type": "markdown",
   "id": "30627188",
   "metadata": {},
   "source": [
    "Bei \"SOS\" haben alle Buchstaben drei Zeichen, deshalb besteht die gewünscht Ausgabe aus drei gleichen Teilen."
   ]
  },
  {
   "cell_type": "markdown",
   "id": "d9bf0948",
   "metadata": {},
   "source": [
    "## Trainings-Daten generieren"
   ]
  },
  {
   "cell_type": "code",
   "execution_count": 783,
   "id": "453a5acf",
   "metadata": {},
   "outputs": [],
   "source": [
    "with open(\"words.txt\", \"r\") as f:\n",
    "    words = f.read()"
   ]
  },
  {
   "cell_type": "code",
   "execution_count": 784,
   "id": "99d8d22d",
   "metadata": {},
   "outputs": [
    {
     "data": {
      "text/plain": [
       "[]"
      ]
     },
     "execution_count": 784,
     "metadata": {},
     "output_type": "execute_result"
    }
   ],
   "source": [
    "[x for x in words if x.upper() not in morse_code and x != \"\\n\"]"
   ]
  },
  {
   "cell_type": "code",
   "execution_count": 785,
   "id": "354591c7",
   "metadata": {},
   "outputs": [],
   "source": [
    "words = words.split(\"\\n\")[:-1]"
   ]
  },
  {
   "cell_type": "code",
   "execution_count": 786,
   "id": "0bad5854",
   "metadata": {},
   "outputs": [],
   "source": [
    "words += 300 * [\"the\", \"to\", \"of\", \"with\", \"and\"]"
   ]
  },
  {
   "cell_type": "code",
   "execution_count": 787,
   "id": "456a76df",
   "metadata": {},
   "outputs": [],
   "source": [
    "def get_random_phrase(length):\n",
    "    phrase = \"\"\n",
    "    while len(phrase) < length:\n",
    "        if phrase != \"\":\n",
    "            phrase += \" \"\n",
    "        phrase += words[np.random.randint(len(words))]\n",
    "    return phrase\n",
    "def make_training_data(length):\n",
    "    phrase = get_random_phrase(length)\n",
    "    morse = to_morse(phrase)\n",
    "    inputs = encode_input(morse)\n",
    "    targets = compute_target(morse)\n",
    "    inputs = inputs[:length]\n",
    "    targets = targets[:length]\n",
    "    return inputs, targets"
   ]
  },
  {
   "cell_type": "code",
   "execution_count": 788,
   "id": "e1b30e2b",
   "metadata": {},
   "outputs": [
    {
     "data": {
      "text/plain": [
       "'of northern less observe to to suffer of support of'"
      ]
     },
     "execution_count": 788,
     "metadata": {},
     "output_type": "execute_result"
    }
   ],
   "source": [
    "get_random_phrase(50)"
   ]
  },
  {
   "cell_type": "code",
   "execution_count": 789,
   "id": "0c3c10ad",
   "metadata": {},
   "outputs": [],
   "source": [
    "def make_batches(n_batches, length):\n",
    "    inputs, targets = [np.zeros((n_batches, length, k)) for k in [3,1]]\n",
    "    for i in range(n_batches):\n",
    "        inputs[i], targets[i,:,0] = make_training_data(length)\n",
    "    return inputs, targets"
   ]
  },
  {
   "cell_type": "markdown",
   "id": "3461ce28",
   "metadata": {},
   "source": [
    "## Trainings-Daten aus Text"
   ]
  },
  {
   "cell_type": "code",
   "execution_count": 790,
   "id": "083518ed",
   "metadata": {},
   "outputs": [],
   "source": [
    "with open(\"dataset0.txt\", \"r\") as f:\n",
    "    text = f.read()\n",
    "text = \"\".join([x for x in text if x == \"\\n\" or (x.upper() in morse_code)])\n",
    "text = text.replace(\"\\n\", \" \")\n",
    "text = \" \".join(text.split())"
   ]
  },
  {
   "cell_type": "code",
   "execution_count": 791,
   "id": "f9d0fca1",
   "metadata": {},
   "outputs": [
    {
     "data": {
      "text/plain": [
       "'TheProjectGutenbergeBookofBedouinsbyJamesHuneker ThiseBookisfortheuseofanyoneanywhereintheUnitedStatesand mostotherpartsoftheworldatnocostandwithalmostnorestrictions whatsoeverYoumaycopyitgiveitawayorreuseitundertheterms oftheProjectGutenbergLicenseincludedwiththiseBookoronlineat wwwgutenbergorgIfyouarenotlocatedintheUnitedStatesyou willhavetocheckthelawsofthecountrywhereyouarelocatedbefore usingthiseBook TitleBedouins AuthorJamesHuneker ReleaseDateMarcheBook LanguageEnglish ProducedbyTimLindell'"
      ]
     },
     "execution_count": 791,
     "metadata": {},
     "output_type": "execute_result"
    }
   ],
   "source": [
    "text[:500]"
   ]
  },
  {
   "cell_type": "code",
   "execution_count": 792,
   "id": "d67ce886",
   "metadata": {},
   "outputs": [],
   "source": [
    "def make_batches(length):\n",
    "    pos = np.random.randint(len(text) - length + 50)\n",
    "    subtext = text[pos : pos + length + 50]\n",
    "    idx = subtext[:50].find(\" \")\n",
    "    if idx > 0:\n",
    "        subtext = subtext[idx : length + idx]\n",
    "    morse = to_morse(subtext)\n",
    "    inputs = encode_input(morse)\n",
    "    targets = compute_target(morse)\n",
    "    inputs = inputs[:length]\n",
    "    targets = targets[:length]\n",
    "    return inputs, targets\n",
    "\n",
    "def make_batches(n_batches, length):\n",
    "    inputs, targets = [np.zeros((n_batches, length, k)) for k in [3,1]]\n",
    "    for i in range(n_batches):\n",
    "        inputs[i], targets[i,:,0] = make_batches(length)\n",
    "    return inputs, targets"
   ]
  },
  {
   "cell_type": "markdown",
   "id": "ef3f8a24",
   "metadata": {},
   "source": [
    "## Definition und Training des Modells"
   ]
  },
  {
   "cell_type": "code",
   "execution_count": 822,
   "id": "5f6193fe",
   "metadata": {},
   "outputs": [],
   "source": [
    "model = tf.keras.Sequential()\n",
    "model.add(tf.keras.layers.LSTM(250, return_sequences=True))\n",
    "#model.add(tf.keras.layers.Dense(150, activation='relu'))\n",
    "model.add(tf.keras.layers.LSTM(250, return_sequences=True))\n",
    "#model.add(tf.keras.layers.Dense(500, activation='relu'))\n",
    "model.add(tf.keras.layers.Dense(500, activation='relu'))\n",
    "model.add(tf.keras.layers.LSTM(60, return_sequences=True))\n",
    "model.add(tf.keras.layers.Dense(1))"
   ]
  },
  {
   "cell_type": "code",
   "execution_count": 823,
   "id": "722a73dc",
   "metadata": {},
   "outputs": [],
   "source": [
    "model.compile(optimizer=tf.optimizers.Adam(), loss = tf.losses.BinaryCrossentropy(from_logits=True))"
   ]
  },
  {
   "cell_type": "code",
   "execution_count": 830,
   "id": "95a3af6d",
   "metadata": {},
   "outputs": [],
   "source": [
    "example_while_training = \"These were slim not her singing\""
   ]
  },
  {
   "cell_type": "code",
   "execution_count": null,
   "id": "10c28401",
   "metadata": {
    "scrolled": false
   },
   "outputs": [
    {
     "name": "stdout",
     "output_type": "stream",
     "text": [
      "STEP 0 / 1000\n",
      "Epoch 1/3\n",
      "13/13 [==============================] - 3s 241ms/step - loss: 0.2687\n",
      "Epoch 2/3\n",
      "13/13 [==============================] - 3s 236ms/step - loss: 0.2051\n",
      "Epoch 3/3\n",
      "13/13 [==============================] - 3s 242ms/step - loss: 0.1618\n",
      "THIS WEL ?UT NOT HER SINGING\n",
      "STEP 1 / 1000\n",
      "Epoch 1/3\n",
      "13/13 [==============================] - 3s 236ms/step - loss: 0.2871\n",
      "Epoch 2/3\n",
      "13/13 [==============================] - 3s 238ms/step - loss: 0.2103\n",
      "Epoch 3/3\n",
      "13/13 [==============================] - 3s 236ms/step - loss: 0.1651\n",
      "THIS WEL SLUT NOT HER SINGING\n",
      "STEP 2 / 1000\n",
      "Epoch 1/3\n",
      "13/13 [==============================] - 3s 233ms/step - loss: 0.2782\n",
      "Epoch 2/3\n",
      "13/13 [==============================] - 3s 258ms/step - loss: 0.2128\n",
      "Epoch 3/3\n",
      "13/13 [==============================] - 3s 238ms/step - loss: 0.1685\n",
      "THIS WINE SLUT NOT HER SINGING\n",
      "STEP 3 / 1000\n",
      "Epoch 1/3\n",
      "13/13 [==============================] - 3s 239ms/step - loss: 0.2611\n",
      "Epoch 2/3\n",
      "13/13 [==============================] - 3s 243ms/step - loss: 0.1989\n",
      "Epoch 3/3\n",
      "13/13 [==============================] - 3s 245ms/step - loss: 0.1557\n",
      "THIS WINE IIDUT NOT HER SINGING\n",
      "STEP 4 / 1000\n",
      "Epoch 1/3\n",
      "13/13 [==============================] - 3s 248ms/step - loss: 0.2663\n",
      "Epoch 2/3\n",
      "13/13 [==============================] - 3s 246ms/step - loss: 0.1959\n",
      "Epoch 3/3\n",
      "13/13 [==============================] - 3s 240ms/step - loss: 0.1523\n",
      "DEEHE WERE HDEW NOT HER SINGING\n",
      "STEP 5 / 1000\n",
      "Epoch 1/3\n",
      "13/13 [==============================] - 3s 240ms/step - loss: 0.2549\n",
      "Epoch 2/3\n",
      "13/13 [==============================] - 3s 249ms/step - loss: 0.1855\n",
      "Epoch 3/3\n",
      "13/13 [==============================] - 3s 241ms/step - loss: 0.1490\n",
      "DEEHE WINE SEDEAT N? HER SINGING\n",
      "STEP 6 / 1000\n",
      "Epoch 1/3\n",
      "13/13 [==============================] - 3s 235ms/step - loss: 0.2627\n",
      "Epoch 2/3\n",
      "12/13 [==========================>...] - ETA: 0s - loss: 0.1937"
     ]
    }
   ],
   "source": [
    "n_iter =1000\n",
    "for i in range(n_iter):\n",
    "    inputs, targets = make_batches(400, 150)\n",
    "    print(\"STEP {} / {}\".format(i, n_iter))\n",
    "    model.fit(inputs, targets, epochs = 3)\n",
    "    print(morse_decode(insert_spaces(remove_spaces(to_morse(example_while_training)))))"
   ]
  },
  {
   "cell_type": "markdown",
   "id": "6c0915c9",
   "metadata": {},
   "source": [
    "## Morse-Dekodieren zum Testen"
   ]
  },
  {
   "cell_type": "code",
   "execution_count": null,
   "id": "4c0589b0",
   "metadata": {},
   "outputs": [],
   "source": [
    "morse_inverse = { code: letter for letter, code in morse_code.items() }"
   ]
  },
  {
   "cell_type": "code",
   "execution_count": null,
   "id": "f047d9b3",
   "metadata": {},
   "outputs": [],
   "source": [
    "def morse_decode_word(with_spaces):\n",
    "    codes = with_spaces.split(\" \")\n",
    "    return \"\".join([morse_inverse[x] if x in morse_inverse else \"?\" for x in codes])\n",
    "def morse_decode(s):\n",
    "    return \" \".join([morse_decode_word(x) for x in s.split(\"X\")])"
   ]
  },
  {
   "cell_type": "code",
   "execution_count": null,
   "id": "79a71aae",
   "metadata": {},
   "outputs": [],
   "source": [
    "def remove_spaces(s):\n",
    "    return \"\".join([x for x in s if x != \" \"])"
   ]
  },
  {
   "cell_type": "code",
   "execution_count": null,
   "id": "dc1de5fc",
   "metadata": {},
   "outputs": [],
   "source": [
    "def insert_spaces(s_no_spaces, output=None):\n",
    "    inp_encode = encode_input(s_no_spaces)\n",
    "    if output is None:\n",
    "        output = model(inp_encode.reshape(1,-1,3)).numpy()[0,:,0][lookahead:]\n",
    "    with_spaces = \"\"\n",
    "    for i in range(len(s_no_spaces)):\n",
    "        char = s_no_spaces[i]\n",
    "        with_spaces += char\n",
    "        if output[i] > 0 and i < len(s_no_spaces) - 1 and s_no_spaces[i+1] != \"X\":\n",
    "            with_spaces += \" \"\n",
    "    return with_spaces"
   ]
  },
  {
   "cell_type": "code",
   "execution_count": null,
   "id": "192312fe",
   "metadata": {},
   "outputs": [],
   "source": [
    "morse_orig = to_morse(\"printer test\")\n",
    "print(morse_orig)"
   ]
  },
  {
   "cell_type": "code",
   "execution_count": null,
   "id": "55bfda6b",
   "metadata": {},
   "outputs": [],
   "source": [
    "nospace = remove_spaces(morse_orig)\n",
    "print(nospace)"
   ]
  },
  {
   "cell_type": "code",
   "execution_count": null,
   "id": "63166f25",
   "metadata": {
    "scrolled": false
   },
   "outputs": [],
   "source": [
    "reconstructed = insert_spaces(nospace)\n",
    "print(reconstructed)"
   ]
  },
  {
   "cell_type": "code",
   "execution_count": null,
   "id": "751735de",
   "metadata": {},
   "outputs": [],
   "source": [
    "reconstructed2 = insert_spaces(nospace, compute_target(morse_orig)[lookahead:])\n",
    "print(reconstructed2)\n",
    "print(morse_decode(reconstructed2))"
   ]
  },
  {
   "cell_type": "code",
   "execution_count": null,
   "id": "55fe3479",
   "metadata": {},
   "outputs": [],
   "source": [
    "morse_decode(morse_orig)"
   ]
  },
  {
   "cell_type": "code",
   "execution_count": null,
   "id": "efcfe23a",
   "metadata": {},
   "outputs": [],
   "source": [
    "morse_decode(reconstructed)"
   ]
  }
 ],
 "metadata": {
  "kernelspec": {
   "display_name": "Python 3 (ipykernel)",
   "language": "python",
   "name": "python3"
  },
  "language_info": {
   "codemirror_mode": {
    "name": "ipython",
    "version": 3
   },
   "file_extension": ".py",
   "mimetype": "text/x-python",
   "name": "python",
   "nbconvert_exporter": "python",
   "pygments_lexer": "ipython3",
   "version": "3.10.8"
  }
 },
 "nbformat": 4,
 "nbformat_minor": 5
}
