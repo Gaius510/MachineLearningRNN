{
  "nbformat": 4,
  "nbformat_minor": 0,
  "metadata": {
    "colab": {
      "provenance": []
    },
    "kernelspec": {
      "name": "python3",
      "display_name": "Python 3"
    },
    "language_info": {
      "name": "python"
    }
  },
  "cells": [
    {
      "cell_type": "code",
      "execution_count": null,
      "metadata": {
        "id": "Fo7vLzjETUIF"
      },
      "outputs": [],
      "source": [
        "# Read words from the first file\n",
        "with open('file1.txt', 'r') as f:\n",
        "    words1 = [line.strip() for line in f.readlines()]\n",
        "\n",
        "# Read words from the second file\n",
        "with open('bigdata set.txt', 'r') as f:\n",
        "    words2 = [line.strip() for line in f.readlines()]\n",
        "\n",
        "# Find the words in the first file that don't exist in the second file\n",
        "unique_words = [word for word in words1 if word not in words2]\n",
        "\n",
        "# Save the unique words to a new file\n",
        "with open('unique_words.txt', 'w') as f:\n",
        "    for word in unique_words:\n",
        "        f.write(word + '\\n')\n"
      ]
    },
    {
      "cell_type": "code",
      "source": [
        "# Read words from the input file\n",
        "with open('unique_words.txt', 'r') as f:\n",
        "    words = [line.strip() for line in f.readlines()]\n",
        "\n",
        "# Remove single-letter words\n",
        "filtered_words = [word for word in words if len(word) > 2]\n",
        "\n",
        "# Save the filtered words to a new file\n",
        "with open('filtered_words.txt', 'w') as f:\n",
        "    for word in filtered_words:\n",
        "        f.write(word + '\\n')\n"
      ],
      "metadata": {
        "id": "PTdTnVUsVqKB"
      },
      "execution_count": null,
      "outputs": []
    }
  ]
}